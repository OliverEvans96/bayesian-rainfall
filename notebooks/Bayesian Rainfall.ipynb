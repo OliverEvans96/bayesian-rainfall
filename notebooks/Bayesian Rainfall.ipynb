{
 "cells": [
  {
   "cell_type": "markdown",
   "id": "56668a39",
   "metadata": {},
   "source": [
    "# Bayesian Rainfall Analysis - Eugene, OR\n",
    "\n",
    "This notebook demonstrates a simplified Bayesian rainfall model for Eugene, Oregon using historical weather data from 2019-2024.\n",
    "\n",
    "## Recent Updates\n",
    "\n",
    "This notebook has been updated to reflect recent simplifications to the codebase:\n",
    "- Removed complex posterior predictive sampling with `pm.set_data()`\n",
    "- Simplified function signatures (no longer require `model` parameter)\n",
    "- Direct evaluation approach for all predictions\n",
    "- Same analytical capabilities with cleaner, more efficient code\n",
    "\n",
    "The model predicts both the probability of rain and the amount of rainfall for any day of the year based on seasonal patterns.\n"
   ]
  },
  {
   "cell_type": "code",
   "execution_count": 1,
   "id": "5f8cb6fa",
   "metadata": {},
   "outputs": [],
   "source": [
    "%load_ext autoreload\n",
    "%autoreload 2"
   ]
  },
  {
   "cell_type": "code",
   "execution_count": 2,
   "id": "16189d3c",
   "metadata": {},
   "outputs": [],
   "source": [
    "import pymc as pm\n",
    "import numpy as np\n",
    "import pandas as pd"
   ]
  },
  {
   "cell_type": "code",
   "execution_count": 3,
   "id": "b6317d96",
   "metadata": {},
   "outputs": [],
   "source": [
    "import bayesian_rainfall as br"
   ]
  },
  {
   "cell_type": "code",
   "execution_count": 4,
   "id": "2f97ebe5",
   "metadata": {},
   "outputs": [
    {
     "data": {
      "text/html": [
       "<div>\n",
       "<style scoped>\n",
       "    .dataframe tbody tr th:only-of-type {\n",
       "        vertical-align: middle;\n",
       "    }\n",
       "\n",
       "    .dataframe tbody tr th {\n",
       "        vertical-align: top;\n",
       "    }\n",
       "\n",
       "    .dataframe thead th {\n",
       "        text-align: right;\n",
       "    }\n",
       "</style>\n",
       "<table border=\"1\" class=\"dataframe\">\n",
       "  <thead>\n",
       "    <tr style=\"text-align: right;\">\n",
       "      <th></th>\n",
       "      <th>DATE</th>\n",
       "      <th>PRCP</th>\n",
       "      <th>day_of_year</th>\n",
       "    </tr>\n",
       "  </thead>\n",
       "  <tbody>\n",
       "    <tr>\n",
       "      <th>0</th>\n",
       "      <td>2019-01-01</td>\n",
       "      <td>0.0</td>\n",
       "      <td>1</td>\n",
       "    </tr>\n",
       "    <tr>\n",
       "      <th>1</th>\n",
       "      <td>2019-01-02</td>\n",
       "      <td>0.0</td>\n",
       "      <td>2</td>\n",
       "    </tr>\n",
       "    <tr>\n",
       "      <th>2</th>\n",
       "      <td>2019-01-03</td>\n",
       "      <td>0.0</td>\n",
       "      <td>3</td>\n",
       "    </tr>\n",
       "    <tr>\n",
       "      <th>3</th>\n",
       "      <td>2019-01-04</td>\n",
       "      <td>0.3</td>\n",
       "      <td>4</td>\n",
       "    </tr>\n",
       "    <tr>\n",
       "      <th>4</th>\n",
       "      <td>2019-01-05</td>\n",
       "      <td>4.6</td>\n",
       "      <td>5</td>\n",
       "    </tr>\n",
       "  </tbody>\n",
       "</table>\n",
       "</div>"
      ],
      "text/plain": [
       "        DATE  PRCP  day_of_year\n",
       "0 2019-01-01   0.0            1\n",
       "1 2019-01-02   0.0            2\n",
       "2 2019-01-03   0.0            3\n",
       "3 2019-01-04   0.3            4\n",
       "4 2019-01-05   4.6            5"
      ]
     },
     "execution_count": 4,
     "metadata": {},
     "output_type": "execute_result"
    }
   ],
   "source": [
    "data = br.model.load_data(\"../data/noaa_historical_weather_eugene_or_2019-2024.csv\")\n",
    "data.head()"
   ]
  },
  {
   "cell_type": "code",
   "execution_count": 5,
   "id": "730c7491",
   "metadata": {},
   "outputs": [
    {
     "data": {
      "text/latex": [
       "$$\n",
       "            \\begin{array}{rcl}\n",
       "            \\text{a\\_rain} &\\sim & \\operatorname{Normal}(0,~1)\\\\\\text{b\\_rain} &\\sim & \\operatorname{Normal}(0,~1)\\\\\\text{c\\_rain} &\\sim & \\operatorname{Normal}(0,~1)\\\\\\text{a\\_amount} &\\sim & \\operatorname{Normal}(0,~1)\\\\\\text{b\\_amount} &\\sim & \\operatorname{Normal}(0,~1)\\\\\\text{c\\_amount} &\\sim & \\operatorname{Normal}(1,~1)\\\\\\text{alpha\\_amount} &\\sim & \\operatorname{Gamma}(2,~f())\\\\\\text{p\\_rain} &\\sim & \\operatorname{Deterministic}(f(\\text{c\\_rain},~\\text{b\\_rain},~\\text{a\\_rain}))\\\\\\text{rain\\_indicator} &\\sim & \\operatorname{Bernoulli}(\\text{p\\_rain})\\\\\\text{rainfall\\_amount} &\\sim & \\operatorname{Gamma}(\\text{alpha\\_amount},~f(\\text{alpha\\_amount},~\\text{c\\_amount},~\\text{b\\_amount},~\\text{a\\_amount}))\n",
       "            \\end{array}\n",
       "            $$"
      ],
      "text/plain": [
       "         a_rain ~ Normal(0, 1)\n",
       "         b_rain ~ Normal(0, 1)\n",
       "         c_rain ~ Normal(0, 1)\n",
       "       a_amount ~ Normal(0, 1)\n",
       "       b_amount ~ Normal(0, 1)\n",
       "       c_amount ~ Normal(1, 1)\n",
       "   alpha_amount ~ Gamma(2, f())\n",
       "         p_rain ~ Deterministic(f(c_rain, b_rain, a_rain))\n",
       " rain_indicator ~ Bernoulli(p_rain)\n",
       "rainfall_amount ~ Gamma(alpha_amount, f(alpha_amount, c_amount, b_amount, a_amount))"
      ]
     },
     "execution_count": 5,
     "metadata": {},
     "output_type": "execute_result"
    }
   ],
   "source": [
    "model = br.model.create_rainfall_model(data)\n",
    "model"
   ]
  },
  {
   "cell_type": "code",
   "execution_count": null,
   "id": "f78a0c0f",
   "metadata": {},
   "outputs": [
    {
     "name": "stderr",
     "output_type": "stream",
     "text": [
      "Initializing NUTS using jitter+adapt_diag...\n",
      "Multiprocess sampling (4 chains in 4 jobs)\n",
      "NUTS: [a_rain, b_rain, c_rain, a_amount, b_amount, c_amount, alpha_amount]\n"
     ]
    },
    {
     "data": {
      "application/vnd.jupyter.widget-view+json": {
       "model_id": "47de16d5fb5b4081b0beca0f4c9d1a84",
       "version_major": 2,
       "version_minor": 0
      },
      "text/plain": [
       "Output()"
      ]
     },
     "metadata": {},
     "output_type": "display_data"
    }
   ],
   "source": [
    "%%time\n",
    "trace = br.model.sample_model(model)\n",
    "trace\n"
   ]
  },
  {
   "cell_type": "code",
   "execution_count": null,
   "id": "4570b1c8",
   "metadata": {},
   "outputs": [],
   "source": [
    "trace.posterior.a_rain.values.flatten().shape"
   ]
  },
  {
   "cell_type": "code",
   "execution_count": null,
   "id": "38180cae",
   "metadata": {},
   "outputs": [],
   "source": [
    "trace.posterior.a_amount.shape"
   ]
  },
  {
   "cell_type": "markdown",
   "id": "3c0545b7",
   "metadata": {},
   "source": [
    "## Simplified Model Approach\n",
    "\n",
    "With our recent simplifications, we no longer need complex posterior predictive sampling with `pm.set_data()`. Instead, we can directly evaluate the model for any day using our simplified functions. This is much more efficient since we have data for every day of the year.\n"
   ]
  },
  {
   "cell_type": "code",
   "execution_count": null,
   "id": "97314c35",
   "metadata": {},
   "outputs": [],
   "source": [
    "# Test posterior predictive sampling using our simplified function\n",
    "# This demonstrates how to get predictions for specific days\n",
    "rain_indicators, rainfall_amounts = br.analysis.sample_posterior_predictive_for_day(trace, 15, n_samples=100)\n",
    "print(f\"Rain indicators shape: {rain_indicators.shape}\")\n",
    "print(f\"Rainfall amounts shape: {rainfall_amounts.shape}\")\n",
    "print(f\"Sample rain frequency: {rain_indicators.mean():.3f}\")\n",
    "print(f\"Sample mean rainfall: {rainfall_amounts.mean():.3f} mm\")"
   ]
  },
  {
   "cell_type": "code",
   "execution_count": null,
   "id": "e2af477a",
   "metadata": {},
   "outputs": [],
   "source": [
    "br.analysis.print_model_summary(trace, data)"
   ]
  },
  {
   "cell_type": "code",
   "execution_count": null,
   "id": "c17bf6ba",
   "metadata": {},
   "outputs": [],
   "source": [
    "trace.posterior"
   ]
  },
  {
   "cell_type": "code",
   "execution_count": null,
   "id": "00bd590a",
   "metadata": {},
   "outputs": [],
   "source": [
    "# Trace plots to check MCMC sampling\n",
    "br.visualizations.plot_trace(trace)\n"
   ]
  },
  {
   "cell_type": "code",
   "execution_count": null,
   "id": "5142e80a",
   "metadata": {},
   "outputs": [],
   "source": [
    "# Combined visualization: Rain probability and amount predictions with both CIs\n",
    "# Note: The model parameter is no longer needed with our simplified approach\n",
    "br.visualizations.plot_combined_predictions(trace, data)\n"
   ]
  },
  {
   "cell_type": "code",
   "execution_count": null,
   "id": "bf66f903",
   "metadata": {},
   "outputs": [],
   "source": [
    "# Posterior predictive checks\n",
    "# Note: The model parameter is no longer needed with our simplified approach\n",
    "br.visualizations.plot_posterior_predictive_checks(trace, data)\n"
   ]
  },
  {
   "cell_type": "code",
   "execution_count": null,
   "id": "97082d55",
   "metadata": {},
   "outputs": [],
   "source": [
    "# Plot observed vs predicted rainfall distributions for specific days\n",
    "br.visualizations.plot_specific_days_comparison(trace, data)"
   ]
  },
  {
   "cell_type": "code",
   "execution_count": null,
   "id": "4f7a2977",
   "metadata": {},
   "outputs": [],
   "source": [
    "# Seasonal comparison: Observed vs Predicted distributions by season\n",
    "br.visualizations.plot_seasonal_summaries(trace, data)\n"
   ]
  },
  {
   "cell_type": "markdown",
   "id": "a68dbd1b",
   "metadata": {},
   "source": [
    "# Single Day Analysis Examples\n",
    "\n",
    "The following examples demonstrate the new single day analysis functions that provide comprehensive analysis of model predictions for specific days of the year.\n"
   ]
  },
  {
   "cell_type": "code",
   "execution_count": null,
   "id": "e5047fe4",
   "metadata": {},
   "outputs": [],
   "source": [
    "# Example 1: Comprehensive analysis for a specific day\n",
    "# You can specify the date in multiple ways:\n",
    "# - Day of year: 15 (January 15)\n",
    "# - String format: \"01/15\" \n",
    "# - Tuple format: (1, 15)\n",
    "\n",
    "# Using day of year\n",
    "results_jan15 = br.analysis.analyze_single_day(\n",
    "    trace=trace, \n",
    "    data=data, \n",
    "    date_input=15,  # Day 15 (January 15)\n",
    "    show_plots=True\n",
    ")\n"
   ]
  },
  {
   "cell_type": "code",
   "execution_count": null,
   "id": "7197e078",
   "metadata": {},
   "outputs": [],
   "source": [
    "# Example 2: Analysis using string format (July 15)\n",
    "# Summer days typically have lower rain probability\n",
    "results_jul15 = br.analysis.analyze_single_day(\n",
    "    trace=trace, \n",
    "    data=data, \n",
    "    date_input=\"09/14\",  # July 15\n",
    "    show_plots=True\n",
    ")\n"
   ]
  },
  {
   "cell_type": "code",
   "execution_count": null,
   "id": "6a559a33",
   "metadata": {},
   "outputs": [],
   "source": [
    "import matplotlib.pyplot as plt"
   ]
  },
  {
   "cell_type": "markdown",
   "id": "43aad2d8",
   "metadata": {},
   "source": [
    "## Probability Analysis Examples\n",
    "\n",
    "These functions allow you to calculate specific probabilities for rainfall events on given days.\n"
   ]
  },
  {
   "cell_type": "code",
   "execution_count": null,
   "id": "808cc5c5",
   "metadata": {},
   "outputs": [],
   "source": [
    "# Example 3: Calculate probability of any rain on a given day\n",
    "# This is useful for planning outdoor activities\n",
    "# Using tuple format (month, day)\n",
    "any_rain_prob = br.analysis.print_any_rain_probability(\n",
    "    trace=trace, \n",
    "    date_input=\"09/14\"\n",
    ")\n"
   ]
  },
  {
   "cell_type": "code",
   "execution_count": null,
   "id": "a51569d1",
   "metadata": {},
   "outputs": [],
   "source": [
    "# Example 4: Calculate probability of rainfall within various intervals\n",
    "# This is useful for agricultural planning or flood risk assessment\n",
    "\n",
    "# Any rainfall (no bounds) - equivalent to calculate_any_rain_probability\n",
    "any_rainfall_prob = br.analysis.print_rainfall_interval_probability(\n",
    "    trace=trace, \n",
    "    date_input=\"09/14\",\n",
    "    interval_min=1.0,\n",
    "    # interval_max=3.0,\n",
    ")\n"
   ]
  },
  {
   "cell_type": "code",
   "execution_count": null,
   "id": "d77f9b92",
   "metadata": {},
   "outputs": [],
   "source": [
    "# Example usage:\n",
    "br.analysis.print_simple_daily_rainfall_analysis(trace, date_input=\"09/14\")\n"
   ]
  },
  {
   "cell_type": "code",
   "execution_count": null,
   "id": "27710f26",
   "metadata": {},
   "outputs": [],
   "source": [
    "# Example 5: Compare different days of the year\n",
    "# Let's analyze a few different days to see seasonal patterns\n",
    "# Mix of different input formats to show flexibility\n",
    "\n",
    "days_to_analyze = [\n",
    "    15,           # day of year (January 15)\n",
    "    \"04/10\",      # string format (April 10)\n",
    "    (7, 19),      # tuple format (July 19)\n",
    "    300           # day of year (October 27)\n",
    "]\n",
    "\n",
    "print(\"SEASONAL COMPARISON OF RAIN PROBABILITIES\")\n",
    "print(\"=\" * 60)\n",
    "\n",
    "for date_input in days_to_analyze:\n",
    "    rain_prob = br.analysis.calculate_any_rain_probability(trace, date_input)\n",
    "    print(f\"{rain_prob['day_name']:25} | P(rain) = {rain_prob['mean_probability']:.3f} ± {rain_prob['std_probability']:.3f}\")\n"
   ]
  },
  {
   "cell_type": "markdown",
   "id": "6df7c9ca",
   "metadata": {},
   "source": [
    "# Weekly Rain Probability Analysis\n",
    "\n",
    "This section shows the chance of any rain each week throughout the year, providing a more granular view of seasonal patterns than monthly analysis.\n"
   ]
  },
  {
   "cell_type": "markdown",
   "id": "7aded76f",
   "metadata": {},
   "source": [
    "## Key Simplifications Made\n",
    "\n",
    "The model has been simplified to remove unnecessary complexity around posterior predictive sampling:\n",
    "\n",
    "1. **No more `pm.set_data()`**: We can directly evaluate the model for any day since we have data for every day of the year\n",
    "2. **Simplified function signatures**: Functions like `plot_combined_predictions()` no longer require the `model` parameter\n",
    "3. **Direct evaluation**: All predictions use direct evaluation of the posterior samples rather than complex PyMC posterior predictive sampling\n",
    "4. **Same functionality**: All analysis capabilities are preserved but with cleaner, more efficient code\n",
    "\n",
    "This makes the code easier to understand and maintain while providing the same analytical capabilities.\n"
   ]
  },
  {
   "cell_type": "code",
   "execution_count": null,
   "id": "edff1d61",
   "metadata": {},
   "outputs": [],
   "source": [
    "# Demonstration of simplified prediction approach\n",
    "# We can now easily get predictions for any day without complex PyMC setup\n",
    "\n",
    "# Get predictions for multiple days\n",
    "days_to_test = [15, 100, 200, 300]  # January 15, April 10, July 19, October 27\n",
    "\n",
    "print(\"SIMPLIFIED PREDICTION APPROACH\")\n",
    "print(\"=\" * 50)\n",
    "for day in days_to_test:\n",
    "    # Get rain probability and expected amount directly\n",
    "    rain_probs, expected_amounts, alpha_amounts = br.analysis._evaluate_model_for_day(trace, day)\n",
    "    \n",
    "    # Calculate statistics\n",
    "    mean_rain_prob = rain_probs.mean()\n",
    "    mean_expected_amount = expected_amounts.mean()\n",
    "    \n",
    "    # Get day name\n",
    "    from datetime import datetime\n",
    "    date_obj = datetime(2024, 1, 1) + pd.Timedelta(days=day - 1)\n",
    "    day_name = date_obj.strftime(\"%B %d\")\n",
    "    \n",
    "    print(f\"{day_name:12} (Day {day:3d}): P(rain) = {mean_rain_prob:.3f}, Expected amount = {mean_expected_amount:.2f} mm\")\n",
    "\n",
    "print(\"\\nThis approach is much simpler and more efficient than the previous method!\")\n"
   ]
  },
  {
   "cell_type": "code",
   "execution_count": null,
   "id": "30593c46",
   "metadata": {},
   "outputs": [],
   "source": [
    "# Plot weekly rain probability throughout the year\n",
    "weekly_results = br.visualizations.plot_weekly_rain_probability(trace, data)\n"
   ]
  }
 ],
 "metadata": {
  "kernelspec": {
   "display_name": "Python 3 (ipykernel)",
   "language": "python",
   "name": "python3"
  },
  "language_info": {
   "codemirror_mode": {
    "name": "ipython",
    "version": 3
   },
   "file_extension": ".py",
   "mimetype": "text/x-python",
   "name": "python",
   "nbconvert_exporter": "python",
   "pygments_lexer": "ipython3",
   "version": "3.12.3"
  }
 },
 "nbformat": 4,
 "nbformat_minor": 5
}
